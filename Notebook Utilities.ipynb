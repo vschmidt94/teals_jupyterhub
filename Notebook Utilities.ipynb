{
 "cells": [
  {
   "cell_type": "markdown",
   "metadata": {},
   "source": [
    "Simple script to fetch latest notebook code from GitHub.\n",
    "\n",
    "Please don't alter the script, or it could stop working for you.  Just execute the cell (run it) when asked to."
   ]
  },
  {
   "cell_type": "code",
   "execution_count": 35,
   "metadata": {},
   "outputs": [
    {
     "name": "stdout",
     "output_type": "stream",
     "text": [
      "Fetching...\n",
      "\n",
      "Attempting git pull...\n",
      "\n",
      "Already up to date.\n",
      "\n",
      "Most recent commit: \n",
      "\n",
      "commit 19c8e0cf6de0de6c1a447357aae5a19e60af23c9\n",
      "Author: Vaughan Schmidt <vaughan.schmidt@gmail.com>\n",
      "Date:   Tue Nov 20 16:10:10 2018 -0800\n",
      "\n",
      "    Update the README File\n"
     ]
    }
   ],
   "source": [
    "import git\n",
    "repo = git.Repo('')\n",
    "git = repo.git\n",
    "git.fetch()\n",
    "print('Fetching...\\n')\n",
    "print('Attempting git pull...\\n')\n",
    "print(git.pull())\n",
    "print('\\nMost recent commit: \\n')\n",
    "print(git.log(-1))"
   ]
  }
 ],
 "metadata": {
  "kernelspec": {
   "display_name": "Python 3",
   "language": "python",
   "name": "python3"
  },
  "language_info": {
   "codemirror_mode": {
    "name": "ipython",
    "version": 3
   },
   "file_extension": ".py",
   "mimetype": "text/x-python",
   "name": "python",
   "nbconvert_exporter": "python",
   "pygments_lexer": "ipython3",
   "version": "3.7.0"
  }
 },
 "nbformat": 4,
 "nbformat_minor": 2
}
