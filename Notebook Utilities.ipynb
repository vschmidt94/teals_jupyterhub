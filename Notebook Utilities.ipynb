{
 "cells": [
  {
   "cell_type": "markdown",
   "metadata": {},
   "source": [
    "Simple script to fetch latest notebook code from GitHub.\n",
    "\n",
    "Please don't alter the script, or it could stop working for you.  Just execute the cell (run it) when asked to."
   ]
  },
  {
   "cell_type": "code",
   "execution_count": 36,
   "metadata": {},
   "outputs": [
    {
     "name": "stdout",
     "output_type": "stream",
     "text": [
      "Fetching...\n",
      "\n",
      "Attempting git pull...\n",
      "\n",
      "Already up to date.\n",
      "\n",
      "Most recent commit: \n",
      "\n",
      "commit c06ef90643a35949462d887e1a609a901b108f16\n",
      "Author: Vaughan Schmidt <vaughan.schmidt@gmail.com>\n",
      "Date:   Wed Nov 21 00:16:50 2018 +0000\n",
      "\n",
      "    Adding the Notebook Utilities notebook for ease of git pulls.\n"
     ]
    }
   ],
   "source": [
    "import git\n",
    "repo = git.Repo('')\n",
    "git = repo.git\n",
    "\n",
    "# Go fetch any updates from remote GitHub repository\n",
    "print('Fetching...\\n')\n",
    "git.fetch()\n",
    "\n",
    "# Pull down anything new (if any)\n",
    "print('Attempting git pull...\\n')\n",
    "print(git.pull())\n",
    "\n",
    "# Let me see what the most recent commit is as sanity check.\n",
    "print('\\nMost recent commit: \\n')\n",
    "print(git.log(-1))"
   ]
  }
 ],
 "metadata": {
  "kernelspec": {
   "display_name": "Python 3",
   "language": "python",
   "name": "python3"
  },
  "language_info": {
   "codemirror_mode": {
    "name": "ipython",
    "version": 3
   },
   "file_extension": ".py",
   "mimetype": "text/x-python",
   "name": "python",
   "nbconvert_exporter": "python",
   "pygments_lexer": "ipython3",
   "version": "3.7.0"
  }
 },
 "nbformat": 4,
 "nbformat_minor": 2
}
