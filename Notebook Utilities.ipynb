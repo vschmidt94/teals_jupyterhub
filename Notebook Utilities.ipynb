{
 "cells": [
  {
   "cell_type": "markdown",
   "metadata": {},
   "source": [
    "Simple script to fetch latest notebook code from GitHub.\n",
    "\n",
    "Please don't alter the script, or it could stop working for you.  Just execute the cell (run it) when asked to."
   ]
  },
  {
   "cell_type": "code",
   "execution_count": 38,
   "metadata": {},
   "outputs": [
    {
     "name": "stdout",
     "output_type": "stream",
     "text": [
      "Fetching...\n",
      "\n",
      "Attempting git pull...\n",
      "\n",
      "Already up to date.\n",
      "\n",
      "Most recent commit: \n",
      "\n",
      "commit e0ebe98734cbfb2eb521f3e16ce8fec9ecaefb76\n",
      "Author: Vaughan Schmidt <vaughan.schmidt@gmail.com>\n",
      "Date:   Wed Nov 21 00:21:31 2018 +0000\n",
      "\n",
      "    Commit the utilities script without baked-in output\n"
     ]
    }
   ],
   "source": [
    "import git\n",
    "repo = git.Repo('')\n",
    "git = repo.git\n",
    "\n",
    "# Go fetch any updates from remote GitHub repository\n",
    "print('Fetching...\\n')\n",
    "git.fetch()\n",
    "\n",
    "# Pull down anything new (if any)\n",
    "print('Attempting git pull...\\n')\n",
    "print(git.pull())\n",
    "\n",
    "# Let me see what the most recent commit is as sanity check.\n",
    "print('\\nMost recent commit: \\n')\n",
    "print(git.log(-1))"
   ]
  },
  {
   "cell_type": "markdown",
   "metadata": {},
   "source": [
    "### See the logs for this repo ###"
   ]
  },
  {
   "cell_type": "code",
   "execution_count": 40,
   "metadata": {},
   "outputs": [
    {
     "name": "stdout",
     "output_type": "stream",
     "text": [
      "commit e0ebe98734cbfb2eb521f3e16ce8fec9ecaefb76\n",
      "Author: Vaughan Schmidt <vaughan.schmidt@gmail.com>\n",
      "Date:   Wed Nov 21 00:21:31 2018 +0000\n",
      "\n",
      "    Commit the utilities script without baked-in output\n",
      "\n",
      "commit 91a5b8a5a9c2fecbd1c58e11db336121ece8598c\n",
      "Author: Vaughan Schmidt <vaughan.schmidt@gmail.com>\n",
      "Date:   Wed Nov 21 00:19:48 2018 +0000\n",
      "\n",
      "    Adds comments to the git fetch script\n",
      "\n",
      "commit c06ef90643a35949462d887e1a609a901b108f16\n",
      "Author: Vaughan Schmidt <vaughan.schmidt@gmail.com>\n",
      "Date:   Wed Nov 21 00:16:50 2018 +0000\n",
      "\n",
      "    Adding the Notebook Utilities notebook for ease of git pulls.\n",
      "\n",
      "commit 19c8e0cf6de0de6c1a447357aae5a19e60af23c9\n",
      "Author: Vaughan Schmidt <vaughan.schmidt@gmail.com>\n",
      "Date:   Tue Nov 20 16:10:10 2018 -0800\n",
      "\n",
      "    Update the README File\n",
      "\n",
      "commit 76392cfde5900cb00d7fb7076187c48503d5764e\n",
      "Author: Vaughan Schmidt <vaughan.schmidt@gmail.com>\n",
      "Date:   Tue Nov 20 15:08:36 2018 +0000\n",
      "\n",
      "    Updates to Lab 2, also adds earthquake data\n",
      "\n",
      "commit 6e5420caa2a47c09dfbfa7f9c5f453742ccd316e\n",
      "Author: Vaughan Schmidt <vaughan.schmidt@gmail.com>\n",
      "Date:   Sun Nov 18 16:25:06 2018 +0000\n",
      "\n",
      "    Cleaned up the simple web API example\n",
      "\n",
      "commit 7aecfcfdcab62e8442ab81706c8bcf8c9ffc8d00\n",
      "Author: Vaughan Schmidt <vaughan.schmidt@gmail.com>\n",
      "Date:   Fri Nov 16 21:36:22 2018 +0000\n",
      "\n",
      "    adds README\n",
      "\n",
      "commit a751ab72bdfc1625eda958114fadc4a7cb3d2cee\n",
      "Author: Vaughan Schmidt <vaughan.schmidt@gmail.com>\n",
      "Date:   Fri Nov 16 21:26:04 2018 +0000\n",
      "\n",
      "    Initial commit\n"
     ]
    }
   ],
   "source": [
    "print(git.log())"
   ]
  }
 ],
 "metadata": {
  "kernelspec": {
   "display_name": "Python 3",
   "language": "python",
   "name": "python3"
  },
  "language_info": {
   "codemirror_mode": {
    "name": "ipython",
    "version": 3
   },
   "file_extension": ".py",
   "mimetype": "text/x-python",
   "name": "python",
   "nbconvert_exporter": "python",
   "pygments_lexer": "ipython3",
   "version": "3.7.0"
  }
 },
 "nbformat": 4,
 "nbformat_minor": 2
}
